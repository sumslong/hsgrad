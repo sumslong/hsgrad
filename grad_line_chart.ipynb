{
 "cells": [
  {
   "cell_type": "code",
   "execution_count": 47,
   "metadata": {},
   "outputs": [
    {
     "data": {
      "application/vnd.plotly.v1+json": {
       "config": {
        "plotlyServerURL": "https://plot.ly"
       },
       "data": [
        {
         "line": {
          "color": "red"
         },
         "mode": "lines",
         "name": "Alabama",
         "type": "scatter",
         "x": [
          2011,
          2014,
          2017
         ],
         "y": [
          54.87804878,
          49.73544974,
          49.52830189
         ]
        },
        {
         "line": {
          "color": "green"
         },
         "mode": "lines",
         "name": "Alaska",
         "type": "scatter",
         "x": [
          2011,
          2014,
          2017
         ],
         "y": [
          56.52173913,
          63.63636364,
          60.52631579
         ]
        },
        {
         "line": {
          "color": "purple"
         },
         "mode": "lines",
         "name": "Arizona",
         "type": "scatter",
         "x": [
          2011,
          2014,
          2017
         ],
         "y": [
          58.06451613,
          73.68421053,
          57.14285714
         ]
        },
        {
         "line": {
          "color": "orange"
         },
         "mode": "lines",
         "name": "Arkansas",
         "type": "scatter",
         "x": [
          2011,
          2014,
          2017
         ],
         "y": [
          56.66666667,
          65.2173913,
          61.76470588
         ]
        },
        {
         "line": {
          "color": "black"
         },
         "mode": "lines",
         "name": "California",
         "type": "scatter",
         "x": [
          2011,
          2014,
          2017
         ],
         "y": [
          74.46280992,
          70.79283887,
          72.36263736
         ]
        },
        {
         "line": {
          "color": "gray"
         },
         "mode": "lines",
         "name": "Colorado",
         "type": "scatter",
         "x": [
          2011,
          2014,
          2017
         ],
         "y": [
          6.976744186,
          3.448275862,
          62.62626263
         ]
        },
        {
         "line": {
          "color": "magenta"
         },
         "mode": "lines",
         "name": "Connecticut",
         "type": "scatter",
         "x": [
          2011,
          2014,
          2017
         ],
         "y": [
          57.67790262,
          63.7254902,
          68.35443038
         ]
        },
        {
         "line": {
          "color": "brown"
         },
         "mode": "lines",
         "name": "Delaware",
         "type": "scatter",
         "x": [
          2011,
          2014,
          2017
         ],
         "y": [
          28,
          57.77777778,
          43.24324324
         ]
        },
        {
         "line": {
          "color": "pink"
         },
         "mode": "lines",
         "name": "District of Columbia",
         "type": "scatter",
         "x": [
          2011,
          2014,
          2017
         ],
         "y": [
          57.14285714,
          66.66666667,
          52.63157895
         ]
        },
        {
         "line": {
          "color": "olive"
         },
         "mode": "lines",
         "name": "Florida",
         "type": "scatter",
         "x": [
          2011,
          2014,
          2017
         ],
         "y": [
          55.40983607,
          62.88659794,
          60.69651741
         ]
        },
        {
         "line": {
          "color": "teal"
         },
         "mode": "lines",
         "name": "Georgia",
         "type": "scatter",
         "x": [
          2011,
          2014,
          2017
         ],
         "y": [
          44.44444444,
          34.07821229,
          39.28571429
         ]
        },
        {
         "line": {
          "color": "cyan"
         },
         "mode": "lines",
         "name": "Hawaii",
         "type": "scatter",
         "x": [
          2011,
          2014,
          2017
         ],
         "y": [
          78.26086957,
          54.54545455,
          86.36363636
         ]
        },
        {
         "line": {
          "color": "gold"
         },
         "mode": "lines",
         "name": "Idaho",
         "type": "scatter",
         "x": [
          2011,
          2014,
          2017
         ],
         "y": [
          74.07407407,
          57.57575758,
          44.64285714
         ]
        },
        {
         "line": {
          "color": "navy"
         },
         "mode": "lines",
         "name": "Illinois",
         "type": "scatter",
         "x": [
          2011,
          2014,
          2017
         ],
         "y": [
          64.38356164,
          59.14634146,
          63.69863014
         ]
        },
        {
         "line": {
          "color": "maroon"
         },
         "mode": "lines",
         "name": "Indiana",
         "type": "scatter",
         "x": [
          2011,
          2014,
          2017
         ],
         "y": [
          45.67901235,
          48.7394958,
          64.81481481
         ]
        },
        {
         "line": {
          "color": "lime"
         },
         "mode": "lines",
         "name": "Iowa",
         "type": "scatter",
         "x": [
          2011,
          2014,
          2017
         ],
         "y": [
          73.4375,
          78.29457364,
          67.74193548
         ]
        },
        {
         "line": {
          "color": "indigo"
         },
         "mode": "lines",
         "name": "Kansas",
         "type": "scatter",
         "x": [
          2011,
          2014,
          2017
         ],
         "y": [
          62.61980831,
          63.13559322,
          70.37037037
         ]
        },
        {
         "line": {
          "color": "darkred"
         },
         "mode": "lines",
         "name": "Kentucky",
         "type": "scatter",
         "x": [
          2011,
          2014,
          2017
         ],
         "y": [
          70.51282051,
          70.71428571,
          69.09090909
         ]
        },
        {
         "line": {
          "color": "seagreen"
         },
         "mode": "lines",
         "name": "Louisiana",
         "type": "scatter",
         "x": [
          2011,
          2014,
          2017
         ],
         "y": [
          43.01075269,
          38.05309735,
          36.58536585
         ]
        },
        {
         "line": {
          "color": "pink"
         },
         "mode": "lines",
         "name": "Maine",
         "type": "scatter",
         "x": [
          2011,
          2014,
          2017
         ],
         "y": [
          71.42857143,
          62.5,
          55.55555556
         ]
        },
        {
         "line": {
          "color": "coral"
         },
         "mode": "lines",
         "name": "Maryland",
         "type": "scatter",
         "x": [
          2011,
          2014,
          2017
         ],
         "y": [
          64.77272727,
          65.13157895,
          64.33566434
         ]
        },
        {
         "line": {
          "color": "silver"
         },
         "mode": "lines",
         "name": "Massachusetts",
         "type": "scatter",
         "x": [
          2011,
          2014,
          2017
         ],
         "y": [
          50.53763441,
          53.92670157,
          53.76884422
         ]
        },
        {
         "line": {
          "color": "tomato"
         },
         "mode": "lines",
         "name": "Michigan",
         "type": "scatter",
         "x": [
          2011,
          2014,
          2017
         ],
         "y": [
          48.86877828,
          42.60485651,
          52.98507463
         ]
        },
        {
         "line": {
          "color": "sienna"
         },
         "mode": "lines",
         "name": "Minnesota",
         "type": "scatter",
         "x": [
          2011,
          2014,
          2017
         ],
         "y": [
          73.82198953,
          76.47058824,
          63.88888889
         ]
        },
        {
         "line": {
          "color": "lavender"
         },
         "mode": "lines",
         "name": "Mississippi",
         "type": "scatter",
         "x": [
          2011,
          2014,
          2017
         ],
         "y": [
          57.97101449,
          76,
          77.77777778
         ]
        },
        {
         "line": {
          "color": "plum"
         },
         "mode": "lines",
         "name": "Missouri",
         "type": "scatter",
         "x": [
          2011,
          2014,
          2017
         ],
         "y": [
          61.18881119,
          74.61538462,
          64.70588235
         ]
        },
        {
         "line": {
          "color": "khaki"
         },
         "mode": "lines",
         "name": "Montana",
         "type": "scatter",
         "x": [
          2011,
          2014,
          2017
         ],
         "y": [
          59.09090909,
          76.31578947,
          73.33333333
         ]
        },
        {
         "line": {
          "color": "rosybrown"
         },
         "mode": "lines",
         "name": "Nebraska",
         "type": "scatter",
         "x": [
          2011,
          2014,
          2017
         ],
         "y": [
          68.33333333,
          62.80487805,
          60.8
         ]
        },
        {
         "line": {
          "color": "darkslategray"
         },
         "mode": "lines",
         "name": "Nevada",
         "type": "scatter",
         "x": [
          2011,
          2014,
          2017
         ],
         "y": [
          60.21505376,
          54.95495495,
          70.58823529
         ]
        },
        {
         "line": {
          "color": "deeppink"
         },
         "mode": "lines",
         "name": "New Hampshire",
         "type": "scatter",
         "x": [
          2011,
          2014,
          2017
         ],
         "y": [
          47.5,
          57.14285714,
          78.26086957
         ]
        },
        {
         "line": {
          "color": "peru"
         },
         "mode": "lines",
         "name": "New Jersey",
         "type": "scatter",
         "x": [
          2011,
          2014,
          2017
         ],
         "y": [
          67.59259259,
          77.85234899,
          65.625
         ]
        },
        {
         "line": {
          "color": "crimson"
         },
         "mode": "lines",
         "name": "New Mexico",
         "type": "scatter",
         "x": [
          2011,
          2014,
          2017
         ],
         "y": [
          39.28571429,
          30.76923077,
          59.375
         ]
        },
        {
         "line": {
          "color": "orangered"
         },
         "mode": "lines",
         "name": "New York",
         "type": "scatter",
         "x": [
          2011,
          2014,
          2017
         ],
         "y": [
          52.63157895,
          61.30268199,
          43.57723577
         ]
        },
        {
         "line": {
          "color": "slateblue"
         },
         "mode": "lines",
         "name": "North Carolina",
         "type": "scatter",
         "x": [
          2011,
          2014,
          2017
         ],
         "y": [
          51.85185185,
          58.97435897,
          57.66423358
         ]
        },
        {
         "line": {
          "color": "steelblue"
         },
         "mode": "lines",
         "name": "North Dakota",
         "type": "scatter",
         "x": [
          2011,
          2014,
          2017
         ],
         "y": [
          66.03773585,
          47.36842105,
          75
         ]
        },
        {
         "line": {
          "color": "salmon"
         },
         "mode": "lines",
         "name": "Ohio",
         "type": "scatter",
         "x": [
          2011,
          2014,
          2017
         ],
         "y": [
          53.57142857,
          56.75675676,
          52.56410256
         ]
        },
        {
         "line": {
          "color": "dodgerblue"
         },
         "mode": "lines",
         "name": "Oklahoma",
         "type": "scatter",
         "x": [
          2011,
          2014,
          2017
         ],
         "y": [
          69.375,
          55.35714286,
          57.5
         ]
        },
        {
         "line": {
          "color": "turquoise"
         },
         "mode": "lines",
         "name": "Oregon",
         "type": "scatter",
         "x": [
          2011,
          2014,
          2017
         ],
         "y": [
          80.76923077,
          70.71428571,
          70.39473684
         ]
        },
        {
         "line": {
          "color": "sandybrown"
         },
         "mode": "lines",
         "name": "Pennsylvania",
         "type": "scatter",
         "x": [
          2011,
          2014,
          2017
         ],
         "y": [
          64.17910448,
          56.84931507,
          55.06329114
         ]
        },
        {
         "line": {
          "color": "forestgreen"
         },
         "mode": "lines",
         "name": "Rhode Island",
         "type": "scatter",
         "x": [
          2011,
          2014,
          2017
         ],
         "y": [
          46.71532847,
          42.47787611,
          50.61728395
         ]
        },
        {
         "line": {
          "color": "darkviolet"
         },
         "mode": "lines",
         "name": "South Carolina",
         "type": "scatter",
         "x": [
          2011,
          2014,
          2017
         ],
         "y": [
          43.57798165,
          42.96296296,
          70.58823529
         ]
        },
        {
         "line": {
          "color": "hotpink"
         },
         "mode": "lines",
         "name": "South Dakota",
         "type": "scatter",
         "x": [
          2011,
          2014,
          2017
         ],
         "y": [
          0,
          0,
          58.53658537
         ]
        },
        {
         "line": {
          "color": "lawngreen"
         },
         "mode": "lines",
         "name": "Tennessee",
         "type": "scatter",
         "x": [
          2011,
          2014,
          2017
         ],
         "y": [
          75.82417582,
          58.44155844,
          61.42857143
         ]
        },
        {
         "line": {
          "color": "firebrick"
         },
         "mode": "lines",
         "name": "Texas",
         "type": "scatter",
         "x": [
          2011,
          2014,
          2017
         ],
         "y": [
          52.85171103,
          50.20242915,
          50.98039216
         ]
        },
        {
         "line": {
          "color": "darkgreen"
         },
         "mode": "lines",
         "name": "Utah",
         "type": "scatter",
         "x": [
          2011,
          2014,
          2017
         ],
         "y": [
          77.84090909,
          60.50955414,
          72.72727273
         ]
        },
        {
         "line": {
          "color": "mediumorchid"
         },
         "mode": "lines",
         "name": "Vermont",
         "type": "scatter",
         "x": [
          2011,
          2014,
          2017
         ],
         "y": [
          50,
          66.66666667,
          35.29411765
         ]
        },
        {
         "line": {
          "color": "darkorange"
         },
         "mode": "lines",
         "name": "Virginia",
         "type": "scatter",
         "x": [
          2011,
          2014,
          2017
         ],
         "y": [
          65.70048309,
          69.1011236,
          68.14814815
         ]
        },
        {
         "line": {
          "color": "navajowhite"
         },
         "mode": "lines",
         "name": "Washington",
         "type": "scatter",
         "x": [
          2011,
          2014,
          2017
         ],
         "y": [
          43.31550802,
          47.87878788,
          56.8627451
         ]
        },
        {
         "line": {
          "color": "skyblue"
         },
         "mode": "lines",
         "name": "West Virginia",
         "type": "scatter",
         "x": [
          2011,
          2014,
          2017
         ],
         "y": [
          4.651162791,
          2.955665025,
          68.18181818
         ]
        },
        {
         "line": {
          "color": "tan"
         },
         "mode": "lines",
         "name": "Wisconsin",
         "type": "scatter",
         "x": [
          2011,
          2014,
          2017
         ],
         "y": [
          69.09090909,
          66.18357488,
          69.48356808
         ]
        },
        {
         "line": {
          "color": "crimson"
         },
         "mode": "lines",
         "name": "Wyoming",
         "type": "scatter",
         "x": [
          2011,
          2014,
          2017
         ],
         "y": [
          63.63636364,
          78.57142857,
          72.91666667
         ]
        },
        {
         "line": {
          "color": "blue"
         },
         "mode": "lines",
         "name": "Overall",
         "type": "scatter",
         "x": [
          2011,
          2014,
          2017
         ],
         "y": [
          59.23222493,
          59.86175115,
          62.66074883
         ]
        }
       ],
       "layout": {
        "height": 700,
        "margin": {
         "b": 50,
         "l": 50,
         "r": 50,
         "t": 50
        },
        "paper_bgcolor": "rgba(0,0,0,0)",
        "plot_bgcolor": "rgba(0,0,0,0)",
        "template": {
         "data": {
          "bar": [
           {
            "error_x": {
             "color": "#2a3f5f"
            },
            "error_y": {
             "color": "#2a3f5f"
            },
            "marker": {
             "line": {
              "color": "#E5ECF6",
              "width": 0.5
             },
             "pattern": {
              "fillmode": "overlay",
              "size": 10,
              "solidity": 0.2
             }
            },
            "type": "bar"
           }
          ],
          "barpolar": [
           {
            "marker": {
             "line": {
              "color": "#E5ECF6",
              "width": 0.5
             },
             "pattern": {
              "fillmode": "overlay",
              "size": 10,
              "solidity": 0.2
             }
            },
            "type": "barpolar"
           }
          ],
          "carpet": [
           {
            "aaxis": {
             "endlinecolor": "#2a3f5f",
             "gridcolor": "white",
             "linecolor": "white",
             "minorgridcolor": "white",
             "startlinecolor": "#2a3f5f"
            },
            "baxis": {
             "endlinecolor": "#2a3f5f",
             "gridcolor": "white",
             "linecolor": "white",
             "minorgridcolor": "white",
             "startlinecolor": "#2a3f5f"
            },
            "type": "carpet"
           }
          ],
          "choropleth": [
           {
            "colorbar": {
             "outlinewidth": 0,
             "ticks": ""
            },
            "type": "choropleth"
           }
          ],
          "contour": [
           {
            "colorbar": {
             "outlinewidth": 0,
             "ticks": ""
            },
            "colorscale": [
             [
              0,
              "#0d0887"
             ],
             [
              0.1111111111111111,
              "#46039f"
             ],
             [
              0.2222222222222222,
              "#7201a8"
             ],
             [
              0.3333333333333333,
              "#9c179e"
             ],
             [
              0.4444444444444444,
              "#bd3786"
             ],
             [
              0.5555555555555556,
              "#d8576b"
             ],
             [
              0.6666666666666666,
              "#ed7953"
             ],
             [
              0.7777777777777778,
              "#fb9f3a"
             ],
             [
              0.8888888888888888,
              "#fdca26"
             ],
             [
              1,
              "#f0f921"
             ]
            ],
            "type": "contour"
           }
          ],
          "contourcarpet": [
           {
            "colorbar": {
             "outlinewidth": 0,
             "ticks": ""
            },
            "type": "contourcarpet"
           }
          ],
          "heatmap": [
           {
            "colorbar": {
             "outlinewidth": 0,
             "ticks": ""
            },
            "colorscale": [
             [
              0,
              "#0d0887"
             ],
             [
              0.1111111111111111,
              "#46039f"
             ],
             [
              0.2222222222222222,
              "#7201a8"
             ],
             [
              0.3333333333333333,
              "#9c179e"
             ],
             [
              0.4444444444444444,
              "#bd3786"
             ],
             [
              0.5555555555555556,
              "#d8576b"
             ],
             [
              0.6666666666666666,
              "#ed7953"
             ],
             [
              0.7777777777777778,
              "#fb9f3a"
             ],
             [
              0.8888888888888888,
              "#fdca26"
             ],
             [
              1,
              "#f0f921"
             ]
            ],
            "type": "heatmap"
           }
          ],
          "heatmapgl": [
           {
            "colorbar": {
             "outlinewidth": 0,
             "ticks": ""
            },
            "colorscale": [
             [
              0,
              "#0d0887"
             ],
             [
              0.1111111111111111,
              "#46039f"
             ],
             [
              0.2222222222222222,
              "#7201a8"
             ],
             [
              0.3333333333333333,
              "#9c179e"
             ],
             [
              0.4444444444444444,
              "#bd3786"
             ],
             [
              0.5555555555555556,
              "#d8576b"
             ],
             [
              0.6666666666666666,
              "#ed7953"
             ],
             [
              0.7777777777777778,
              "#fb9f3a"
             ],
             [
              0.8888888888888888,
              "#fdca26"
             ],
             [
              1,
              "#f0f921"
             ]
            ],
            "type": "heatmapgl"
           }
          ],
          "histogram": [
           {
            "marker": {
             "pattern": {
              "fillmode": "overlay",
              "size": 10,
              "solidity": 0.2
             }
            },
            "type": "histogram"
           }
          ],
          "histogram2d": [
           {
            "colorbar": {
             "outlinewidth": 0,
             "ticks": ""
            },
            "colorscale": [
             [
              0,
              "#0d0887"
             ],
             [
              0.1111111111111111,
              "#46039f"
             ],
             [
              0.2222222222222222,
              "#7201a8"
             ],
             [
              0.3333333333333333,
              "#9c179e"
             ],
             [
              0.4444444444444444,
              "#bd3786"
             ],
             [
              0.5555555555555556,
              "#d8576b"
             ],
             [
              0.6666666666666666,
              "#ed7953"
             ],
             [
              0.7777777777777778,
              "#fb9f3a"
             ],
             [
              0.8888888888888888,
              "#fdca26"
             ],
             [
              1,
              "#f0f921"
             ]
            ],
            "type": "histogram2d"
           }
          ],
          "histogram2dcontour": [
           {
            "colorbar": {
             "outlinewidth": 0,
             "ticks": ""
            },
            "colorscale": [
             [
              0,
              "#0d0887"
             ],
             [
              0.1111111111111111,
              "#46039f"
             ],
             [
              0.2222222222222222,
              "#7201a8"
             ],
             [
              0.3333333333333333,
              "#9c179e"
             ],
             [
              0.4444444444444444,
              "#bd3786"
             ],
             [
              0.5555555555555556,
              "#d8576b"
             ],
             [
              0.6666666666666666,
              "#ed7953"
             ],
             [
              0.7777777777777778,
              "#fb9f3a"
             ],
             [
              0.8888888888888888,
              "#fdca26"
             ],
             [
              1,
              "#f0f921"
             ]
            ],
            "type": "histogram2dcontour"
           }
          ],
          "mesh3d": [
           {
            "colorbar": {
             "outlinewidth": 0,
             "ticks": ""
            },
            "type": "mesh3d"
           }
          ],
          "parcoords": [
           {
            "line": {
             "colorbar": {
              "outlinewidth": 0,
              "ticks": ""
             }
            },
            "type": "parcoords"
           }
          ],
          "pie": [
           {
            "automargin": true,
            "type": "pie"
           }
          ],
          "scatter": [
           {
            "fillpattern": {
             "fillmode": "overlay",
             "size": 10,
             "solidity": 0.2
            },
            "type": "scatter"
           }
          ],
          "scatter3d": [
           {
            "line": {
             "colorbar": {
              "outlinewidth": 0,
              "ticks": ""
             }
            },
            "marker": {
             "colorbar": {
              "outlinewidth": 0,
              "ticks": ""
             }
            },
            "type": "scatter3d"
           }
          ],
          "scattercarpet": [
           {
            "marker": {
             "colorbar": {
              "outlinewidth": 0,
              "ticks": ""
             }
            },
            "type": "scattercarpet"
           }
          ],
          "scattergeo": [
           {
            "marker": {
             "colorbar": {
              "outlinewidth": 0,
              "ticks": ""
             }
            },
            "type": "scattergeo"
           }
          ],
          "scattergl": [
           {
            "marker": {
             "colorbar": {
              "outlinewidth": 0,
              "ticks": ""
             }
            },
            "type": "scattergl"
           }
          ],
          "scattermapbox": [
           {
            "marker": {
             "colorbar": {
              "outlinewidth": 0,
              "ticks": ""
             }
            },
            "type": "scattermapbox"
           }
          ],
          "scatterpolar": [
           {
            "marker": {
             "colorbar": {
              "outlinewidth": 0,
              "ticks": ""
             }
            },
            "type": "scatterpolar"
           }
          ],
          "scatterpolargl": [
           {
            "marker": {
             "colorbar": {
              "outlinewidth": 0,
              "ticks": ""
             }
            },
            "type": "scatterpolargl"
           }
          ],
          "scatterternary": [
           {
            "marker": {
             "colorbar": {
              "outlinewidth": 0,
              "ticks": ""
             }
            },
            "type": "scatterternary"
           }
          ],
          "surface": [
           {
            "colorbar": {
             "outlinewidth": 0,
             "ticks": ""
            },
            "colorscale": [
             [
              0,
              "#0d0887"
             ],
             [
              0.1111111111111111,
              "#46039f"
             ],
             [
              0.2222222222222222,
              "#7201a8"
             ],
             [
              0.3333333333333333,
              "#9c179e"
             ],
             [
              0.4444444444444444,
              "#bd3786"
             ],
             [
              0.5555555555555556,
              "#d8576b"
             ],
             [
              0.6666666666666666,
              "#ed7953"
             ],
             [
              0.7777777777777778,
              "#fb9f3a"
             ],
             [
              0.8888888888888888,
              "#fdca26"
             ],
             [
              1,
              "#f0f921"
             ]
            ],
            "type": "surface"
           }
          ],
          "table": [
           {
            "cells": {
             "fill": {
              "color": "#EBF0F8"
             },
             "line": {
              "color": "white"
             }
            },
            "header": {
             "fill": {
              "color": "#C8D4E3"
             },
             "line": {
              "color": "white"
             }
            },
            "type": "table"
           }
          ]
         },
         "layout": {
          "annotationdefaults": {
           "arrowcolor": "#2a3f5f",
           "arrowhead": 0,
           "arrowwidth": 1
          },
          "autotypenumbers": "strict",
          "coloraxis": {
           "colorbar": {
            "outlinewidth": 0,
            "ticks": ""
           }
          },
          "colorscale": {
           "diverging": [
            [
             0,
             "#8e0152"
            ],
            [
             0.1,
             "#c51b7d"
            ],
            [
             0.2,
             "#de77ae"
            ],
            [
             0.3,
             "#f1b6da"
            ],
            [
             0.4,
             "#fde0ef"
            ],
            [
             0.5,
             "#f7f7f7"
            ],
            [
             0.6,
             "#e6f5d0"
            ],
            [
             0.7,
             "#b8e186"
            ],
            [
             0.8,
             "#7fbc41"
            ],
            [
             0.9,
             "#4d9221"
            ],
            [
             1,
             "#276419"
            ]
           ],
           "sequential": [
            [
             0,
             "#0d0887"
            ],
            [
             0.1111111111111111,
             "#46039f"
            ],
            [
             0.2222222222222222,
             "#7201a8"
            ],
            [
             0.3333333333333333,
             "#9c179e"
            ],
            [
             0.4444444444444444,
             "#bd3786"
            ],
            [
             0.5555555555555556,
             "#d8576b"
            ],
            [
             0.6666666666666666,
             "#ed7953"
            ],
            [
             0.7777777777777778,
             "#fb9f3a"
            ],
            [
             0.8888888888888888,
             "#fdca26"
            ],
            [
             1,
             "#f0f921"
            ]
           ],
           "sequentialminus": [
            [
             0,
             "#0d0887"
            ],
            [
             0.1111111111111111,
             "#46039f"
            ],
            [
             0.2222222222222222,
             "#7201a8"
            ],
            [
             0.3333333333333333,
             "#9c179e"
            ],
            [
             0.4444444444444444,
             "#bd3786"
            ],
            [
             0.5555555555555556,
             "#d8576b"
            ],
            [
             0.6666666666666666,
             "#ed7953"
            ],
            [
             0.7777777777777778,
             "#fb9f3a"
            ],
            [
             0.8888888888888888,
             "#fdca26"
            ],
            [
             1,
             "#f0f921"
            ]
           ]
          },
          "colorway": [
           "#636efa",
           "#EF553B",
           "#00cc96",
           "#ab63fa",
           "#FFA15A",
           "#19d3f3",
           "#FF6692",
           "#B6E880",
           "#FF97FF",
           "#FECB52"
          ],
          "font": {
           "color": "#2a3f5f"
          },
          "geo": {
           "bgcolor": "white",
           "lakecolor": "white",
           "landcolor": "#E5ECF6",
           "showlakes": true,
           "showland": true,
           "subunitcolor": "white"
          },
          "hoverlabel": {
           "align": "left"
          },
          "hovermode": "closest",
          "mapbox": {
           "style": "light"
          },
          "paper_bgcolor": "white",
          "plot_bgcolor": "#E5ECF6",
          "polar": {
           "angularaxis": {
            "gridcolor": "white",
            "linecolor": "white",
            "ticks": ""
           },
           "bgcolor": "#E5ECF6",
           "radialaxis": {
            "gridcolor": "white",
            "linecolor": "white",
            "ticks": ""
           }
          },
          "scene": {
           "xaxis": {
            "backgroundcolor": "#E5ECF6",
            "gridcolor": "white",
            "gridwidth": 2,
            "linecolor": "white",
            "showbackground": true,
            "ticks": "",
            "zerolinecolor": "white"
           },
           "yaxis": {
            "backgroundcolor": "#E5ECF6",
            "gridcolor": "white",
            "gridwidth": 2,
            "linecolor": "white",
            "showbackground": true,
            "ticks": "",
            "zerolinecolor": "white"
           },
           "zaxis": {
            "backgroundcolor": "#E5ECF6",
            "gridcolor": "white",
            "gridwidth": 2,
            "linecolor": "white",
            "showbackground": true,
            "ticks": "",
            "zerolinecolor": "white"
           }
          },
          "shapedefaults": {
           "line": {
            "color": "#2a3f5f"
           }
          },
          "ternary": {
           "aaxis": {
            "gridcolor": "white",
            "linecolor": "white",
            "ticks": ""
           },
           "baxis": {
            "gridcolor": "white",
            "linecolor": "white",
            "ticks": ""
           },
           "bgcolor": "#E5ECF6",
           "caxis": {
            "gridcolor": "white",
            "linecolor": "white",
            "ticks": ""
           }
          },
          "title": {
           "x": 0.05
          },
          "xaxis": {
           "automargin": true,
           "gridcolor": "white",
           "linecolor": "white",
           "ticks": "",
           "title": {
            "standoff": 15
           },
           "zerolinecolor": "white",
           "zerolinewidth": 2
          },
          "yaxis": {
           "automargin": true,
           "gridcolor": "white",
           "linecolor": "white",
           "ticks": "",
           "title": {
            "standoff": 15
           },
           "zerolinecolor": "white",
           "zerolinewidth": 2
          }
         }
        },
        "title": {
         "font": {
          "size": 24
         },
         "text": "Graduation Rates over Time",
         "x": 0.5
        },
        "updatemenus": [
         {
          "active": 52,
          "buttons": [
           {
            "args": [
             {
              "marker": {
               "color": "white"
              },
              "name": "Alabama",
              "showlegend": false,
              "y": [
               [
                54.87804878,
                49.73544974,
                49.52830189
               ]
              ]
             }
            ],
            "label": "Alabama",
            "method": "update"
           },
           {
            "args": [
             {
              "marker": {
               "color": "white"
              },
              "name": "Alaska",
              "showlegend": false,
              "y": [
               [
                56.52173913,
                63.63636364,
                60.52631579
               ]
              ]
             }
            ],
            "label": "Alaska",
            "method": "update"
           },
           {
            "args": [
             {
              "marker": {
               "color": "white"
              },
              "name": "Arizona",
              "showlegend": false,
              "y": [
               [
                58.06451613,
                73.68421053,
                57.14285714
               ]
              ]
             }
            ],
            "label": "Arizona",
            "method": "update"
           },
           {
            "args": [
             {
              "marker": {
               "color": "white"
              },
              "name": "Arkansas",
              "showlegend": false,
              "y": [
               [
                56.66666667,
                65.2173913,
                61.76470588
               ]
              ]
             }
            ],
            "label": "Arkansas",
            "method": "update"
           },
           {
            "args": [
             {
              "marker": {
               "color": "white"
              },
              "name": "California",
              "showlegend": false,
              "y": [
               [
                74.46280992,
                70.79283887,
                72.36263736
               ]
              ]
             }
            ],
            "label": "California",
            "method": "update"
           },
           {
            "args": [
             {
              "marker": {
               "color": "white"
              },
              "name": "Colorado",
              "showlegend": false,
              "y": [
               [
                6.976744186,
                3.448275862,
                62.62626263
               ]
              ]
             }
            ],
            "label": "Colorado",
            "method": "update"
           },
           {
            "args": [
             {
              "marker": {
               "color": "white"
              },
              "name": "Connecticut",
              "showlegend": false,
              "y": [
               [
                57.67790262,
                63.7254902,
                68.35443038
               ]
              ]
             }
            ],
            "label": "Connecticut",
            "method": "update"
           },
           {
            "args": [
             {
              "marker": {
               "color": "white"
              },
              "name": "Delaware",
              "showlegend": false,
              "y": [
               [
                28,
                57.77777778,
                43.24324324
               ]
              ]
             }
            ],
            "label": "Delaware",
            "method": "update"
           },
           {
            "args": [
             {
              "marker": {
               "color": "white"
              },
              "name": "District of Columbia",
              "showlegend": false,
              "y": [
               [
                57.14285714,
                66.66666667,
                52.63157895
               ]
              ]
             }
            ],
            "label": "District of Columbia",
            "method": "update"
           },
           {
            "args": [
             {
              "marker": {
               "color": "white"
              },
              "name": "Florida",
              "showlegend": false,
              "y": [
               [
                55.40983607,
                62.88659794,
                60.69651741
               ]
              ]
             }
            ],
            "label": "Florida",
            "method": "update"
           },
           {
            "args": [
             {
              "marker": {
               "color": "white"
              },
              "name": "Georgia",
              "showlegend": false,
              "y": [
               [
                44.44444444,
                34.07821229,
                39.28571429
               ]
              ]
             }
            ],
            "label": "Georgia",
            "method": "update"
           },
           {
            "args": [
             {
              "marker": {
               "color": "white"
              },
              "name": "Hawaii",
              "showlegend": false,
              "y": [
               [
                78.26086957,
                54.54545455,
                86.36363636
               ]
              ]
             }
            ],
            "label": "Hawaii",
            "method": "update"
           },
           {
            "args": [
             {
              "marker": {
               "color": "white"
              },
              "name": "Idaho",
              "showlegend": false,
              "y": [
               [
                74.07407407,
                57.57575758,
                44.64285714
               ]
              ]
             }
            ],
            "label": "Idaho",
            "method": "update"
           },
           {
            "args": [
             {
              "marker": {
               "color": "white"
              },
              "name": "Illinois",
              "showlegend": false,
              "y": [
               [
                64.38356164,
                59.14634146,
                63.69863014
               ]
              ]
             }
            ],
            "label": "Illinois",
            "method": "update"
           },
           {
            "args": [
             {
              "marker": {
               "color": "white"
              },
              "name": "Indiana",
              "showlegend": false,
              "y": [
               [
                45.67901235,
                48.7394958,
                64.81481481
               ]
              ]
             }
            ],
            "label": "Indiana",
            "method": "update"
           },
           {
            "args": [
             {
              "marker": {
               "color": "white"
              },
              "name": "Iowa",
              "showlegend": false,
              "y": [
               [
                73.4375,
                78.29457364,
                67.74193548
               ]
              ]
             }
            ],
            "label": "Iowa",
            "method": "update"
           },
           {
            "args": [
             {
              "marker": {
               "color": "white"
              },
              "name": "Kansas",
              "showlegend": false,
              "y": [
               [
                62.61980831,
                63.13559322,
                70.37037037
               ]
              ]
             }
            ],
            "label": "Kansas",
            "method": "update"
           },
           {
            "args": [
             {
              "marker": {
               "color": "white"
              },
              "name": "Kentucky",
              "showlegend": false,
              "y": [
               [
                70.51282051,
                70.71428571,
                69.09090909
               ]
              ]
             }
            ],
            "label": "Kentucky",
            "method": "update"
           },
           {
            "args": [
             {
              "marker": {
               "color": "white"
              },
              "name": "Louisiana",
              "showlegend": false,
              "y": [
               [
                43.01075269,
                38.05309735,
                36.58536585
               ]
              ]
             }
            ],
            "label": "Louisiana",
            "method": "update"
           },
           {
            "args": [
             {
              "marker": {
               "color": "white"
              },
              "name": "Maine",
              "showlegend": false,
              "y": [
               [
                71.42857143,
                62.5,
                55.55555556
               ]
              ]
             }
            ],
            "label": "Maine",
            "method": "update"
           },
           {
            "args": [
             {
              "marker": {
               "color": "white"
              },
              "name": "Maryland",
              "showlegend": false,
              "y": [
               [
                64.77272727,
                65.13157895,
                64.33566434
               ]
              ]
             }
            ],
            "label": "Maryland",
            "method": "update"
           },
           {
            "args": [
             {
              "marker": {
               "color": "white"
              },
              "name": "Massachusetts",
              "showlegend": false,
              "y": [
               [
                50.53763441,
                53.92670157,
                53.76884422
               ]
              ]
             }
            ],
            "label": "Massachusetts",
            "method": "update"
           },
           {
            "args": [
             {
              "marker": {
               "color": "white"
              },
              "name": "Michigan",
              "showlegend": false,
              "y": [
               [
                48.86877828,
                42.60485651,
                52.98507463
               ]
              ]
             }
            ],
            "label": "Michigan",
            "method": "update"
           },
           {
            "args": [
             {
              "marker": {
               "color": "white"
              },
              "name": "Minnesota",
              "showlegend": false,
              "y": [
               [
                73.82198953,
                76.47058824,
                63.88888889
               ]
              ]
             }
            ],
            "label": "Minnesota",
            "method": "update"
           },
           {
            "args": [
             {
              "marker": {
               "color": "white"
              },
              "name": "Mississippi",
              "showlegend": false,
              "y": [
               [
                57.97101449,
                76,
                77.77777778
               ]
              ]
             }
            ],
            "label": "Mississippi",
            "method": "update"
           },
           {
            "args": [
             {
              "marker": {
               "color": "white"
              },
              "name": "Missouri",
              "showlegend": false,
              "y": [
               [
                61.18881119,
                74.61538462,
                64.70588235
               ]
              ]
             }
            ],
            "label": "Missouri",
            "method": "update"
           },
           {
            "args": [
             {
              "marker": {
               "color": "white"
              },
              "name": "Montana",
              "showlegend": false,
              "y": [
               [
                59.09090909,
                76.31578947,
                73.33333333
               ]
              ]
             }
            ],
            "label": "Montana",
            "method": "update"
           },
           {
            "args": [
             {
              "marker": {
               "color": "white"
              },
              "name": "Nebraska",
              "showlegend": false,
              "y": [
               [
                68.33333333,
                62.80487805,
                60.8
               ]
              ]
             }
            ],
            "label": "Nebraska",
            "method": "update"
           },
           {
            "args": [
             {
              "marker": {
               "color": "white"
              },
              "name": "Nevada",
              "showlegend": false,
              "y": [
               [
                60.21505376,
                54.95495495,
                70.58823529
               ]
              ]
             }
            ],
            "label": "Nevada",
            "method": "update"
           },
           {
            "args": [
             {
              "marker": {
               "color": "white"
              },
              "name": "New Hampshire",
              "showlegend": false,
              "y": [
               [
                47.5,
                57.14285714,
                78.26086957
               ]
              ]
             }
            ],
            "label": "New Hampshire",
            "method": "update"
           },
           {
            "args": [
             {
              "marker": {
               "color": "white"
              },
              "name": "New Jersey",
              "showlegend": false,
              "y": [
               [
                67.59259259,
                77.85234899,
                65.625
               ]
              ]
             }
            ],
            "label": "New Jersey",
            "method": "update"
           },
           {
            "args": [
             {
              "marker": {
               "color": "white"
              },
              "name": "New Mexico",
              "showlegend": false,
              "y": [
               [
                39.28571429,
                30.76923077,
                59.375
               ]
              ]
             }
            ],
            "label": "New Mexico",
            "method": "update"
           },
           {
            "args": [
             {
              "marker": {
               "color": "white"
              },
              "name": "New York",
              "showlegend": false,
              "y": [
               [
                52.63157895,
                61.30268199,
                43.57723577
               ]
              ]
             }
            ],
            "label": "New York",
            "method": "update"
           },
           {
            "args": [
             {
              "marker": {
               "color": "white"
              },
              "name": "North Carolina",
              "showlegend": false,
              "y": [
               [
                51.85185185,
                58.97435897,
                57.66423358
               ]
              ]
             }
            ],
            "label": "North Carolina",
            "method": "update"
           },
           {
            "args": [
             {
              "marker": {
               "color": "white"
              },
              "name": "North Dakota",
              "showlegend": false,
              "y": [
               [
                66.03773585,
                47.36842105,
                75
               ]
              ]
             }
            ],
            "label": "North Dakota",
            "method": "update"
           },
           {
            "args": [
             {
              "marker": {
               "color": "white"
              },
              "name": "Ohio",
              "showlegend": false,
              "y": [
               [
                53.57142857,
                56.75675676,
                52.56410256
               ]
              ]
             }
            ],
            "label": "Ohio",
            "method": "update"
           },
           {
            "args": [
             {
              "marker": {
               "color": "white"
              },
              "name": "Oklahoma",
              "showlegend": false,
              "y": [
               [
                69.375,
                55.35714286,
                57.5
               ]
              ]
             }
            ],
            "label": "Oklahoma",
            "method": "update"
           },
           {
            "args": [
             {
              "marker": {
               "color": "white"
              },
              "name": "Oregon",
              "showlegend": false,
              "y": [
               [
                80.76923077,
                70.71428571,
                70.39473684
               ]
              ]
             }
            ],
            "label": "Oregon",
            "method": "update"
           },
           {
            "args": [
             {
              "marker": {
               "color": "white"
              },
              "name": "Pennsylvania",
              "showlegend": false,
              "y": [
               [
                64.17910448,
                56.84931507,
                55.06329114
               ]
              ]
             }
            ],
            "label": "Pennsylvania",
            "method": "update"
           },
           {
            "args": [
             {
              "marker": {
               "color": "white"
              },
              "name": "Rhode Island",
              "showlegend": false,
              "y": [
               [
                46.71532847,
                42.47787611,
                50.61728395
               ]
              ]
             }
            ],
            "label": "Rhode Island",
            "method": "update"
           },
           {
            "args": [
             {
              "marker": {
               "color": "white"
              },
              "name": "South Carolina",
              "showlegend": false,
              "y": [
               [
                43.57798165,
                42.96296296,
                70.58823529
               ]
              ]
             }
            ],
            "label": "South Carolina",
            "method": "update"
           },
           {
            "args": [
             {
              "marker": {
               "color": "white"
              },
              "name": "South Dakota",
              "showlegend": false,
              "y": [
               [
                0,
                0,
                58.53658537
               ]
              ]
             }
            ],
            "label": "South Dakota",
            "method": "update"
           },
           {
            "args": [
             {
              "marker": {
               "color": "white"
              },
              "name": "Tennessee",
              "showlegend": false,
              "y": [
               [
                75.82417582,
                58.44155844,
                61.42857143
               ]
              ]
             }
            ],
            "label": "Tennessee",
            "method": "update"
           },
           {
            "args": [
             {
              "marker": {
               "color": "white"
              },
              "name": "Texas",
              "showlegend": false,
              "y": [
               [
                52.85171103,
                50.20242915,
                50.98039216
               ]
              ]
             }
            ],
            "label": "Texas",
            "method": "update"
           },
           {
            "args": [
             {
              "marker": {
               "color": "white"
              },
              "name": "Utah",
              "showlegend": false,
              "y": [
               [
                77.84090909,
                60.50955414,
                72.72727273
               ]
              ]
             }
            ],
            "label": "Utah",
            "method": "update"
           },
           {
            "args": [
             {
              "marker": {
               "color": "white"
              },
              "name": "Vermont",
              "showlegend": false,
              "y": [
               [
                50,
                66.66666667,
                35.29411765
               ]
              ]
             }
            ],
            "label": "Vermont",
            "method": "update"
           },
           {
            "args": [
             {
              "marker": {
               "color": "white"
              },
              "name": "Virginia",
              "showlegend": false,
              "y": [
               [
                65.70048309,
                69.1011236,
                68.14814815
               ]
              ]
             }
            ],
            "label": "Virginia",
            "method": "update"
           },
           {
            "args": [
             {
              "marker": {
               "color": "white"
              },
              "name": "Washington",
              "showlegend": false,
              "y": [
               [
                43.31550802,
                47.87878788,
                56.8627451
               ]
              ]
             }
            ],
            "label": "Washington",
            "method": "update"
           },
           {
            "args": [
             {
              "marker": {
               "color": "white"
              },
              "name": "West Virginia",
              "showlegend": false,
              "y": [
               [
                4.651162791,
                2.955665025,
                68.18181818
               ]
              ]
             }
            ],
            "label": "West Virginia",
            "method": "update"
           },
           {
            "args": [
             {
              "marker": {
               "color": "white"
              },
              "name": "Wisconsin",
              "showlegend": false,
              "y": [
               [
                69.09090909,
                66.18357488,
                69.48356808
               ]
              ]
             }
            ],
            "label": "Wisconsin",
            "method": "update"
           },
           {
            "args": [
             {
              "marker": {
               "color": "white"
              },
              "name": "Wyoming",
              "showlegend": false,
              "y": [
               [
                63.63636364,
                78.57142857,
                72.91666667
               ]
              ]
             }
            ],
            "label": "Wyoming",
            "method": "update"
           },
           {
            "args": [
             {
              "marker": {
               "color": "white"
              },
              "name": "Overall",
              "showlegend": false,
              "y": [
               [
                59.23222493,
                59.86175115,
                62.66074883
               ]
              ]
             }
            ],
            "label": "Overall",
            "method": "update"
           }
          ],
          "direction": "down",
          "showactive": true,
          "x": 0.1,
          "y": 1.1
         }
        ],
        "width": 1000,
        "xaxis": {
         "title": {
          "text": "Year"
         }
        },
        "yaxis": {
         "title": {
          "text": "Graduation Rate"
         }
        }
       }
      }
     },
     "metadata": {},
     "output_type": "display_data"
    },
    {
     "data": {
      "text/plain": [
       "'grad_line_plot.html'"
      ]
     },
     "execution_count": 47,
     "metadata": {},
     "output_type": "execute_result"
    }
   ],
   "source": [
    "import plotly.graph_objs as go\n",
    "import plotly.offline as pyo\n",
    "import pandas as pd\n",
    "\n",
    "# Load data from CSV file\n",
    "df = pd.read_csv('Grad_Percents.csv')\n",
    "\n",
    "# Create figure\n",
    "fig = go.Figure()\n",
    "\n",
    "# Define color palette\n",
    "color_palette = {'Overall': 'blue', 'Alabama': 'red', 'Alaska': 'green', 'Arizona': 'purple', 'Arkansas': 'orange',\n",
    "                 'California': 'black', 'Colorado': 'gray', 'Connecticut': 'magenta', 'Delaware': 'brown',\n",
    "                 'District of Columbia': 'pink', 'Florida': 'olive', 'Georgia': 'teal', 'Hawaii': 'cyan',\n",
    "                 'Idaho': 'gold', 'Illinois': 'navy', 'Indiana': 'maroon', 'Iowa': 'lime', 'Kansas': 'indigo',\n",
    "                 'Kentucky': 'darkred', 'Louisiana': 'seagreen', 'Maine': 'pink', 'Maryland': 'coral',\n",
    "                 'Massachusetts': 'silver', 'Michigan': 'tomato', 'Minnesota': 'sienna', 'Mississippi': 'lavender',\n",
    "                 'Missouri': 'plum', 'Montana': 'khaki', 'Nebraska': 'rosybrown', 'Nevada': 'darkslategray',\n",
    "                 'New Hampshire': 'deeppink', 'New Jersey': 'peru', 'New Mexico': 'crimson', 'New York': 'orangered',\n",
    "                 'North Carolina': 'slateblue', 'North Dakota': 'steelblue', 'Ohio': 'salmon', 'Oklahoma': 'dodgerblue',\n",
    "                 'Oregon': 'turquoise', 'Pennsylvania': 'sandybrown', 'Rhode Island': 'forestgreen',\n",
    "                 'South Carolina': 'darkviolet', 'South Dakota': 'hotpink', 'Tennessee': 'lawngreen', 'Texas': 'firebrick',\n",
    "                 'Utah': 'darkgreen', 'Vermont': 'mediumorchid', 'Virginia': 'darkorange', 'Washington': 'navajowhite',\n",
    "                 'West Virginia': 'skyblue', 'Wisconsin': 'tan', 'Wyoming': 'crimson'}\n",
    "\n",
    "# Add traces for each column in the data\n",
    "for col in df.columns[1:]:\n",
    "    fig.add_trace(go.Scatter(x=df['Year'], y=df[col], mode='lines', name=col, line=dict(color=color_palette[col])))\n",
    "\n",
    "# Create dropdown menu\n",
    "dropdown_buttons = []\n",
    "for col in df.columns[1:]:\n",
    "    dropdown_buttons.append({\n",
    "        'label': col,\n",
    "        'method': 'update',\n",
    "        'args': [{'y': [df[col]], 'name': col, 'showlegend': False, 'marker': {\n",
    "            'color': 'white'}}],\n",
    "    })\n",
    "\n",
    "# Add default selection\n",
    "fig.update_layout(\n",
    "    updatemenus=[{        'buttons': dropdown_buttons,        'direction': 'down',        'showactive': True,        'x': 0.1,        'y': 1.1,        'active': df.columns.get_loc(default_col)    }],\n",
    "    title=\"Graduation Rates over Time\",\n",
    "    title_font_size=24,\n",
    "    xaxis_title=\"Year\",\n",
    "    yaxis_title=\"Graduation Rate\",\n",
    "    height=700,\n",
    "    width=1000,\n",
    "    margin=dict(l=50, r=50, t=50, b=50),\n",
    "    title_x=0.5\n",
    ")\n",
    "\n",
    "fig.update_layout(\n",
    "    plot_bgcolor=\"rgba(0,0,0,0)\",\n",
    "    paper_bgcolor=\"rgba(0,0,0,0)\"\n",
    ")\n",
    "\n",
    "# Show figure\n",
    "fig.show()\n",
    "\n",
    "pyo.plot(fig, filename='grad_line_plot.html')\n",
    "\n"
   ]
  }
 ],
 "metadata": {
  "kernelspec": {
   "display_name": "Python 3",
   "language": "python",
   "name": "python3"
  },
  "language_info": {
   "codemirror_mode": {
    "name": "ipython",
    "version": 3
   },
   "file_extension": ".py",
   "mimetype": "text/x-python",
   "name": "python",
   "nbconvert_exporter": "python",
   "pygments_lexer": "ipython3",
   "version": "3.10.0rc2"
  },
  "orig_nbformat": 4
 },
 "nbformat": 4,
 "nbformat_minor": 2
}
